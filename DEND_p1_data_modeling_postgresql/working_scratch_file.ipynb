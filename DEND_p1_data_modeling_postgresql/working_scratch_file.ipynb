{
 "cells": [
  {
   "cell_type": "code",
   "execution_count": 3,
   "metadata": {
    "editable": true
   },
   "outputs": [
    {
     "data": {
      "text/plain": [
       "'/home/workspace/data.zip'"
      ]
     },
     "execution_count": 3,
     "metadata": {},
     "output_type": "execute_result"
    }
   ],
   "source": [
    "from shutil import make_archive\n",
    "make_archive('data', 'zip', 'data')"
   ]
  },
  {
   "cell_type": "code",
   "execution_count": null,
   "metadata": {
    "editable": true
   },
   "outputs": [],
   "source": [
    "query = \"\"\"\n",
    "SELECT \n",
    "    pg_terminate_backend(pid) \n",
    "FROM \n",
    "    pg_stat_activity \n",
    "WHERE \n",
    "    -- don't kill my own connection!\n",
    "    pid <> pg_backend_pid()\n",
    "    -- don't kill the connections to other databases\n",
    "    AND datname = 'sparkifydb'\n",
    "    ;\n",
    "\"\"\"\n",
    "conn.rollback()\n",
    "conn.autocommit = False\n",
    "cur.execute(query)\n",
    "conn.commit()"
   ]
  }
 ],
 "metadata": {
  "kernelspec": {
   "display_name": "Python 3",
   "language": "python",
   "name": "python3"
  },
  "language_info": {
   "codemirror_mode": {
    "name": "ipython",
    "version": 3
   },
   "file_extension": ".py",
   "mimetype": "text/x-python",
   "name": "python",
   "nbconvert_exporter": "python",
   "pygments_lexer": "ipython3",
   "version": "3.6.3"
  }
 },
 "nbformat": 4,
 "nbformat_minor": 4
}
