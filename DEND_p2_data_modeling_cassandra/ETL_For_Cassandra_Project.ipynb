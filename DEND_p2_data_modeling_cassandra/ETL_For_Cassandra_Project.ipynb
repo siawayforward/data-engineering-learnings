{
 "cells": [
  {
   "cell_type": "markdown",
   "source": [
    "# Part I. ETL Pipeline for Pre-Processing the Files"
   ],
   "metadata": {
    "editable": true
   }
  },
  {
   "cell_type": "markdown",
   "source": [
    "## CODE FOR PRE-PROCESSING THE FILES"
   ],
   "metadata": {
    "editable": true
   }
  },
  {
   "cell_type": "markdown",
   "source": [
    "#### Import Python packages "
   ],
   "metadata": {
    "editable": true
   }
  },
  {
   "cell_type": "code",
   "execution_count": 1,
   "source": [
    "# Import Python packages \r\n",
    "import pandas as pd\r\n",
    "import cassandra\r\n",
    "import re\r\n",
    "import os\r\n",
    "import glob\r\n",
    "import numpy as np\r\n",
    "import json\r\n",
    "import csv"
   ],
   "outputs": [],
   "metadata": {
    "editable": true
   }
  },
  {
   "cell_type": "markdown",
   "source": [
    "#### Creating list of filepaths to process original event csv data files"
   ],
   "metadata": {
    "editable": true
   }
  },
  {
   "cell_type": "code",
   "execution_count": 2,
   "source": [
    "# checking your current working directory\r\n",
    "print(os.getcwd())\r\n",
    "\r\n",
    "# Get your current folder and subfolder event data\r\n",
    "filepath = os.getcwd() + '/event_data'\r\n",
    "  \r\n",
    "# join the file path and roots with the subdirectories using glob\r\n",
    "file_path_list = glob.glob(filepath+'/*.csv')\r\n",
    "\r\n",
    "len(file_path_list)"
   ],
   "outputs": [
    {
     "output_type": "stream",
     "name": "stdout",
     "text": [
      "/home/workspace\n"
     ]
    },
    {
     "output_type": "execute_result",
     "data": {
      "text/plain": [
       "30"
      ]
     },
     "metadata": {},
     "execution_count": 2
    }
   ],
   "metadata": {
    "editable": true
   }
  },
  {
   "cell_type": "markdown",
   "source": [
    "#### Processing the files to create the data file csv that will be used for Apache Casssandra tables"
   ],
   "metadata": {
    "editable": true
   }
  },
  {
   "cell_type": "code",
   "execution_count": 3,
   "source": [
    "# initiating an empty dataframe that will hold all rows generated from each file\r\n",
    "events = pd.DataFrame(columns=['artist', 'firstName', 'gender', 'itemInSession', 'lastName', 'length',\\\r\n",
    "       'level', 'location', 'sessionId', 'song', 'userId']) \r\n",
    "\r\n",
    "# for every filepath in the file path list \r\n",
    "for f in file_path_list:\r\n",
    "    # read in the csv file as a dataframe and append to bigger frame only columns we want\r\n",
    "    df = pd.read_csv(f)[list(events.columns)]\r\n",
    "    events = events.append(df, ignore_index=True)\r\n",
    "            \r\n",
    "#without null values\r\n",
    "events = events.dropna()\r\n",
    "#save as the file\r\n",
    "events.to_csv('event_datafile_new.csv')\r\n",
    "events.shape"
   ],
   "outputs": [
    {
     "output_type": "execute_result",
     "data": {
      "text/plain": [
       "(6820, 11)"
      ]
     },
     "metadata": {},
     "execution_count": 3
    }
   ],
   "metadata": {
    "editable": true
   }
  },
  {
   "cell_type": "code",
   "execution_count": 4,
   "source": [
    "# check df format\r\n",
    "events.head(2)"
   ],
   "outputs": [
    {
     "output_type": "execute_result",
     "data": {
      "text/plain": [
       "                                              artist firstName gender  \\\n",
       "0  Barry Tuckwell/Academy of St Martin-in-the-Fie...  Mohammad      M   \n",
       "1                                       Jimi Hendrix  Mohammad      M   \n",
       "\n",
       "  itemInSession   lastName     length level  \\\n",
       "0             0  Rodriguez  277.15873  paid   \n",
       "1             1  Rodriguez  239.82975  paid   \n",
       "\n",
       "                                  location sessionId  \\\n",
       "0  Sacramento--Roseville--Arden-Arcade, CA       961   \n",
       "1  Sacramento--Roseville--Arden-Arcade, CA       961   \n",
       "\n",
       "                                                song  userId  \n",
       "0  Horn Concerto No. 4 in E flat K495: II. Romanc...    88.0  \n",
       "1                            Woodstock Inprovisation    88.0  "
      ],
      "text/html": [
       "<div>\n",
       "<style scoped>\n",
       "    .dataframe tbody tr th:only-of-type {\n",
       "        vertical-align: middle;\n",
       "    }\n",
       "\n",
       "    .dataframe tbody tr th {\n",
       "        vertical-align: top;\n",
       "    }\n",
       "\n",
       "    .dataframe thead th {\n",
       "        text-align: right;\n",
       "    }\n",
       "</style>\n",
       "<table border=\"1\" class=\"dataframe\">\n",
       "  <thead>\n",
       "    <tr style=\"text-align: right;\">\n",
       "      <th></th>\n",
       "      <th>artist</th>\n",
       "      <th>firstName</th>\n",
       "      <th>gender</th>\n",
       "      <th>itemInSession</th>\n",
       "      <th>lastName</th>\n",
       "      <th>length</th>\n",
       "      <th>level</th>\n",
       "      <th>location</th>\n",
       "      <th>sessionId</th>\n",
       "      <th>song</th>\n",
       "      <th>userId</th>\n",
       "    </tr>\n",
       "  </thead>\n",
       "  <tbody>\n",
       "    <tr>\n",
       "      <th>0</th>\n",
       "      <td>Barry Tuckwell/Academy of St Martin-in-the-Fie...</td>\n",
       "      <td>Mohammad</td>\n",
       "      <td>M</td>\n",
       "      <td>0</td>\n",
       "      <td>Rodriguez</td>\n",
       "      <td>277.15873</td>\n",
       "      <td>paid</td>\n",
       "      <td>Sacramento--Roseville--Arden-Arcade, CA</td>\n",
       "      <td>961</td>\n",
       "      <td>Horn Concerto No. 4 in E flat K495: II. Romanc...</td>\n",
       "      <td>88.0</td>\n",
       "    </tr>\n",
       "    <tr>\n",
       "      <th>1</th>\n",
       "      <td>Jimi Hendrix</td>\n",
       "      <td>Mohammad</td>\n",
       "      <td>M</td>\n",
       "      <td>1</td>\n",
       "      <td>Rodriguez</td>\n",
       "      <td>239.82975</td>\n",
       "      <td>paid</td>\n",
       "      <td>Sacramento--Roseville--Arden-Arcade, CA</td>\n",
       "      <td>961</td>\n",
       "      <td>Woodstock Inprovisation</td>\n",
       "      <td>88.0</td>\n",
       "    </tr>\n",
       "  </tbody>\n",
       "</table>\n",
       "</div>"
      ]
     },
     "metadata": {},
     "execution_count": 4
    }
   ],
   "metadata": {
    "editable": true
   }
  },
  {
   "cell_type": "markdown",
   "source": [
    "I noticed that the `user_id` field is in the form of a float, so cleaning that up to have it be an integer before adding it to any keyspace."
   ],
   "metadata": {
    "editable": true
   }
  },
  {
   "cell_type": "code",
   "execution_count": 5,
   "source": [
    "#clean up user ID to be int\r\n",
    "events.userId = events.userId.apply(lambda x: int(x))\r\n",
    "events.head(2)"
   ],
   "outputs": [
    {
     "output_type": "execute_result",
     "data": {
      "text/plain": [
       "                                              artist firstName gender  \\\n",
       "0  Barry Tuckwell/Academy of St Martin-in-the-Fie...  Mohammad      M   \n",
       "1                                       Jimi Hendrix  Mohammad      M   \n",
       "\n",
       "  itemInSession   lastName     length level  \\\n",
       "0             0  Rodriguez  277.15873  paid   \n",
       "1             1  Rodriguez  239.82975  paid   \n",
       "\n",
       "                                  location sessionId  \\\n",
       "0  Sacramento--Roseville--Arden-Arcade, CA       961   \n",
       "1  Sacramento--Roseville--Arden-Arcade, CA       961   \n",
       "\n",
       "                                                song  userId  \n",
       "0  Horn Concerto No. 4 in E flat K495: II. Romanc...      88  \n",
       "1                            Woodstock Inprovisation      88  "
      ],
      "text/html": [
       "<div>\n",
       "<style scoped>\n",
       "    .dataframe tbody tr th:only-of-type {\n",
       "        vertical-align: middle;\n",
       "    }\n",
       "\n",
       "    .dataframe tbody tr th {\n",
       "        vertical-align: top;\n",
       "    }\n",
       "\n",
       "    .dataframe thead th {\n",
       "        text-align: right;\n",
       "    }\n",
       "</style>\n",
       "<table border=\"1\" class=\"dataframe\">\n",
       "  <thead>\n",
       "    <tr style=\"text-align: right;\">\n",
       "      <th></th>\n",
       "      <th>artist</th>\n",
       "      <th>firstName</th>\n",
       "      <th>gender</th>\n",
       "      <th>itemInSession</th>\n",
       "      <th>lastName</th>\n",
       "      <th>length</th>\n",
       "      <th>level</th>\n",
       "      <th>location</th>\n",
       "      <th>sessionId</th>\n",
       "      <th>song</th>\n",
       "      <th>userId</th>\n",
       "    </tr>\n",
       "  </thead>\n",
       "  <tbody>\n",
       "    <tr>\n",
       "      <th>0</th>\n",
       "      <td>Barry Tuckwell/Academy of St Martin-in-the-Fie...</td>\n",
       "      <td>Mohammad</td>\n",
       "      <td>M</td>\n",
       "      <td>0</td>\n",
       "      <td>Rodriguez</td>\n",
       "      <td>277.15873</td>\n",
       "      <td>paid</td>\n",
       "      <td>Sacramento--Roseville--Arden-Arcade, CA</td>\n",
       "      <td>961</td>\n",
       "      <td>Horn Concerto No. 4 in E flat K495: II. Romanc...</td>\n",
       "      <td>88</td>\n",
       "    </tr>\n",
       "    <tr>\n",
       "      <th>1</th>\n",
       "      <td>Jimi Hendrix</td>\n",
       "      <td>Mohammad</td>\n",
       "      <td>M</td>\n",
       "      <td>1</td>\n",
       "      <td>Rodriguez</td>\n",
       "      <td>239.82975</td>\n",
       "      <td>paid</td>\n",
       "      <td>Sacramento--Roseville--Arden-Arcade, CA</td>\n",
       "      <td>961</td>\n",
       "      <td>Woodstock Inprovisation</td>\n",
       "      <td>88</td>\n",
       "    </tr>\n",
       "  </tbody>\n",
       "</table>\n",
       "</div>"
      ]
     },
     "metadata": {},
     "execution_count": 5
    }
   ],
   "metadata": {
    "editable": true
   }
  },
  {
   "cell_type": "markdown",
   "source": [
    "# Part II. Complete the Apache Cassandra ETL Process. \r\n",
    "\r\n",
    "## A CSV file titled <font color=red>event_datafile_new.csv</font>, located within the Workspace directory is generated from the previous code. It contains the following columns: \r\n",
    "- artist \r\n",
    "- firstName of user\r\n",
    "- gender of user\r\n",
    "- item number in session\r\n",
    "- last name of user\r\n",
    "- length of the song\r\n",
    "- level (paid or free song)\r\n",
    "- location of the user\r\n",
    "- sessionId\r\n",
    "- song title\r\n",
    "- userId\r\n",
    "\r\n",
    "The image below is a screenshot of what the denormalized data should appear like in the <font color=red>**event_datafile_new.csv**</font> after the code above is run:<br>\r\n",
    "\r\n",
    "<img src=\"images/image_event_datafile_new.jpg\">"
   ],
   "metadata": {
    "editable": true
   }
  },
  {
   "cell_type": "code",
   "execution_count": 6,
   "source": [
    "events.columns"
   ],
   "outputs": [
    {
     "output_type": "execute_result",
     "data": {
      "text/plain": [
       "Index(['artist', 'firstName', 'gender', 'itemInSession', 'lastName', 'length',\n",
       "       'level', 'location', 'sessionId', 'song', 'userId'],\n",
       "      dtype='object')"
      ]
     },
     "metadata": {},
     "execution_count": 6
    }
   ],
   "metadata": {
    "editable": true
   }
  },
  {
   "cell_type": "markdown",
   "source": [
    "## Creating the Apache Cassandra Keyspace\r\n"
   ],
   "metadata": {
    "editable": true
   }
  },
  {
   "cell_type": "markdown",
   "source": [
    "#### Creating a Cluster"
   ],
   "metadata": {
    "editable": true
   }
  },
  {
   "cell_type": "code",
   "execution_count": 7,
   "source": [
    "# This should make a connection to a Cassandra instance your local machine \r\n",
    "# (127.0.0.1)\r\n",
    "\r\n",
    "from cassandra.cluster import Cluster\r\n",
    "cluster = Cluster()\r\n",
    "\r\n",
    "# To establish connection and begin executing queries, need a session\r\n",
    "session = cluster.connect()"
   ],
   "outputs": [],
   "metadata": {
    "editable": true
   }
  },
  {
   "cell_type": "markdown",
   "source": [
    "#### Create Keyspace"
   ],
   "metadata": {
    "editable": true
   }
  },
  {
   "cell_type": "code",
   "execution_count": 8,
   "source": [
    "try:\r\n",
    "    session.execute(\"\"\"\r\n",
    "    CREATE KEYSPACE IF NOT EXISTS udacity \r\n",
    "    WITH REPLICATION = \r\n",
    "    { 'class' : 'SimpleStrategy', 'replication_factor' : 1 }\"\"\"\r\n",
    ")\r\n",
    "\r\n",
    "except Exception as e:\r\n",
    "    print(e)"
   ],
   "outputs": [],
   "metadata": {
    "editable": true
   }
  },
  {
   "cell_type": "markdown",
   "source": [
    "#### Set Keyspace"
   ],
   "metadata": {
    "editable": true
   }
  },
  {
   "cell_type": "code",
   "execution_count": 9,
   "source": [
    "try:\r\n",
    "    session.set_keyspace('udacity')\r\n",
    "except Exception as e:\r\n",
    "    print(e)"
   ],
   "outputs": [],
   "metadata": {
    "editable": true
   }
  },
  {
   "cell_type": "markdown",
   "source": [
    "### Now we need to create tables to run the following queries. Remember, with Apache Cassandra you model the database tables on the queries you want to run.\n",
    "\n",
    "This function will allow me to run all queries without replicating this chunk of code for everytime we create, insert into, or select from a table."
   ],
   "metadata": {
    "editable": true
   }
  },
  {
   "cell_type": "code",
   "execution_count": 10,
   "source": [
    "#method for running query and giving results\r\n",
    "def exec_query(session, query, select=False):\r\n",
    "    rows = None\r\n",
    "    try:\r\n",
    "        if select==True:\r\n",
    "            rows = session.execute(query)\r\n",
    "        else:\r\n",
    "            session.execute(query)\r\n",
    "    except Exception as e:\r\n",
    "        print(e)\r\n",
    "    return rows"
   ],
   "outputs": [],
   "metadata": {
    "editable": true
   }
  },
  {
   "cell_type": "markdown",
   "source": [
    "## Create queries to ask the following three questions of the data\n",
    "\n",
    "### 1. Give me the artist, song title and song's length in the music app history that was heard during  sessionId = 338, and itemInSession  = 4\n",
    "\n",
    "\n",
    "### 2. Give me only the following: name of artist, song (sorted by itemInSession) and user (first and last name) for userid = 10, sessionid = 182\n",
    "    \n",
    "\n",
    "### 3. Give me every user name (first and last) in my music app history who listened to the song 'All Hands Against His Own'\n",
    "\n",
    "\n",
    "Before inserting the data and reading it from the cassandra keyspace, I decided to see what the result of each query would be by recreating the selections in the pandas dataframe. This allows me to have a quality check when I get the results from my query to make sure I'm making the correct selections."
   ],
   "metadata": {
    "editable": true
   }
  },
  {
   "cell_type": "code",
   "execution_count": 11,
   "source": [
    "#Question 1:\r\n",
    "events[(events.sessionId == 338) & (events.itemInSession == 4)]"
   ],
   "outputs": [
    {
     "output_type": "execute_result",
     "data": {
      "text/plain": [
       "        artist firstName gender itemInSession  lastName    length level  \\\n",
       "546  Faithless       Ava      F             4  Robinson  495.3073  free   \n",
       "\n",
       "                  location sessionId                             song  userId  \n",
       "546  New Haven-Milford, CT       338  Music Matters (Mark Knight Dub)      50  "
      ],
      "text/html": [
       "<div>\n",
       "<style scoped>\n",
       "    .dataframe tbody tr th:only-of-type {\n",
       "        vertical-align: middle;\n",
       "    }\n",
       "\n",
       "    .dataframe tbody tr th {\n",
       "        vertical-align: top;\n",
       "    }\n",
       "\n",
       "    .dataframe thead th {\n",
       "        text-align: right;\n",
       "    }\n",
       "</style>\n",
       "<table border=\"1\" class=\"dataframe\">\n",
       "  <thead>\n",
       "    <tr style=\"text-align: right;\">\n",
       "      <th></th>\n",
       "      <th>artist</th>\n",
       "      <th>firstName</th>\n",
       "      <th>gender</th>\n",
       "      <th>itemInSession</th>\n",
       "      <th>lastName</th>\n",
       "      <th>length</th>\n",
       "      <th>level</th>\n",
       "      <th>location</th>\n",
       "      <th>sessionId</th>\n",
       "      <th>song</th>\n",
       "      <th>userId</th>\n",
       "    </tr>\n",
       "  </thead>\n",
       "  <tbody>\n",
       "    <tr>\n",
       "      <th>546</th>\n",
       "      <td>Faithless</td>\n",
       "      <td>Ava</td>\n",
       "      <td>F</td>\n",
       "      <td>4</td>\n",
       "      <td>Robinson</td>\n",
       "      <td>495.3073</td>\n",
       "      <td>free</td>\n",
       "      <td>New Haven-Milford, CT</td>\n",
       "      <td>338</td>\n",
       "      <td>Music Matters (Mark Knight Dub)</td>\n",
       "      <td>50</td>\n",
       "    </tr>\n",
       "  </tbody>\n",
       "</table>\n",
       "</div>"
      ]
     },
     "metadata": {},
     "execution_count": 11
    }
   ],
   "metadata": {
    "editable": true
   }
  },
  {
   "cell_type": "code",
   "execution_count": 12,
   "source": [
    "#Question 2:\r\n",
    "events[(events.userId == 10) & (events.sessionId == 182)][['artist', 'song', 'firstName', 'lastName', 'itemInSession', 'userId', 'sessionId']]"
   ],
   "outputs": [
    {
     "output_type": "execute_result",
     "data": {
      "text/plain": [
       "                 artist                                               song  \\\n",
       "5506   Down To The Bone                                 Keep On Keepin' On   \n",
       "5507       Three Drives                                        Greece 2000   \n",
       "5509  Sebastien Tellier                                          Kilometer   \n",
       "5510      Lonnie Gordon  Catch You Baby (Steve Pitron & Max Sanna Radio...   \n",
       "\n",
       "     firstName lastName itemInSession  userId sessionId  \n",
       "5506    Sylvie     Cruz             0      10       182  \n",
       "5507    Sylvie     Cruz             1      10       182  \n",
       "5509    Sylvie     Cruz             2      10       182  \n",
       "5510    Sylvie     Cruz             3      10       182  "
      ],
      "text/html": [
       "<div>\n",
       "<style scoped>\n",
       "    .dataframe tbody tr th:only-of-type {\n",
       "        vertical-align: middle;\n",
       "    }\n",
       "\n",
       "    .dataframe tbody tr th {\n",
       "        vertical-align: top;\n",
       "    }\n",
       "\n",
       "    .dataframe thead th {\n",
       "        text-align: right;\n",
       "    }\n",
       "</style>\n",
       "<table border=\"1\" class=\"dataframe\">\n",
       "  <thead>\n",
       "    <tr style=\"text-align: right;\">\n",
       "      <th></th>\n",
       "      <th>artist</th>\n",
       "      <th>song</th>\n",
       "      <th>firstName</th>\n",
       "      <th>lastName</th>\n",
       "      <th>itemInSession</th>\n",
       "      <th>userId</th>\n",
       "      <th>sessionId</th>\n",
       "    </tr>\n",
       "  </thead>\n",
       "  <tbody>\n",
       "    <tr>\n",
       "      <th>5506</th>\n",
       "      <td>Down To The Bone</td>\n",
       "      <td>Keep On Keepin' On</td>\n",
       "      <td>Sylvie</td>\n",
       "      <td>Cruz</td>\n",
       "      <td>0</td>\n",
       "      <td>10</td>\n",
       "      <td>182</td>\n",
       "    </tr>\n",
       "    <tr>\n",
       "      <th>5507</th>\n",
       "      <td>Three Drives</td>\n",
       "      <td>Greece 2000</td>\n",
       "      <td>Sylvie</td>\n",
       "      <td>Cruz</td>\n",
       "      <td>1</td>\n",
       "      <td>10</td>\n",
       "      <td>182</td>\n",
       "    </tr>\n",
       "    <tr>\n",
       "      <th>5509</th>\n",
       "      <td>Sebastien Tellier</td>\n",
       "      <td>Kilometer</td>\n",
       "      <td>Sylvie</td>\n",
       "      <td>Cruz</td>\n",
       "      <td>2</td>\n",
       "      <td>10</td>\n",
       "      <td>182</td>\n",
       "    </tr>\n",
       "    <tr>\n",
       "      <th>5510</th>\n",
       "      <td>Lonnie Gordon</td>\n",
       "      <td>Catch You Baby (Steve Pitron &amp; Max Sanna Radio...</td>\n",
       "      <td>Sylvie</td>\n",
       "      <td>Cruz</td>\n",
       "      <td>3</td>\n",
       "      <td>10</td>\n",
       "      <td>182</td>\n",
       "    </tr>\n",
       "  </tbody>\n",
       "</table>\n",
       "</div>"
      ]
     },
     "metadata": {},
     "execution_count": 12
    }
   ],
   "metadata": {
    "editable": true
   }
  },
  {
   "cell_type": "code",
   "execution_count": 13,
   "source": [
    "#Question 3:\r\n",
    "events[events.song=='All Hands Against His Own'][['firstName', 'lastName']]"
   ],
   "outputs": [
    {
     "output_type": "execute_result",
     "data": {
      "text/plain": [
       "       firstName lastName\n",
       "3286       Tegan   Levine\n",
       "6012        Sara  Johnson\n",
       "7391  Jacqueline    Lynch"
      ],
      "text/html": [
       "<div>\n",
       "<style scoped>\n",
       "    .dataframe tbody tr th:only-of-type {\n",
       "        vertical-align: middle;\n",
       "    }\n",
       "\n",
       "    .dataframe tbody tr th {\n",
       "        vertical-align: top;\n",
       "    }\n",
       "\n",
       "    .dataframe thead th {\n",
       "        text-align: right;\n",
       "    }\n",
       "</style>\n",
       "<table border=\"1\" class=\"dataframe\">\n",
       "  <thead>\n",
       "    <tr style=\"text-align: right;\">\n",
       "      <th></th>\n",
       "      <th>firstName</th>\n",
       "      <th>lastName</th>\n",
       "    </tr>\n",
       "  </thead>\n",
       "  <tbody>\n",
       "    <tr>\n",
       "      <th>3286</th>\n",
       "      <td>Tegan</td>\n",
       "      <td>Levine</td>\n",
       "    </tr>\n",
       "    <tr>\n",
       "      <th>6012</th>\n",
       "      <td>Sara</td>\n",
       "      <td>Johnson</td>\n",
       "    </tr>\n",
       "    <tr>\n",
       "      <th>7391</th>\n",
       "      <td>Jacqueline</td>\n",
       "      <td>Lynch</td>\n",
       "    </tr>\n",
       "  </tbody>\n",
       "</table>\n",
       "</div>"
      ]
     },
     "metadata": {},
     "execution_count": 13
    }
   ],
   "metadata": {
    "editable": true
   }
  },
  {
   "cell_type": "markdown",
   "source": [
    "**Query 1:**  Give me the artist, song title and song's length in the music app history that was heard during sessionId = 338, and itemInSession = 4"
   ],
   "metadata": {
    "editable": true
   }
  },
  {
   "cell_type": "code",
   "execution_count": 14,
   "source": [
    "## Query 1:  Give me the artist, song title and song's length in the music app history that was heard during \\\r\n",
    "## sessionId = 338, and itemInSession = 4\r\n",
    "create_query = 'CREATE TABLE IF NOT EXISTS song_sessions '\r\n",
    "pk = 'PRIMARY KEY(sessionId, itemInSession)'\r\n",
    "create_query = create_query + '(sessionId int, itemInSession int, artist varchar, song varchar, length varchar, {})'.format(pk)\r\n",
    "exec_query(session, 'DROP TABLE IF EXISTS song_sessions')\r\n",
    "exec_query(session, create_query)"
   ],
   "outputs": [],
   "metadata": {
    "editable": true
   }
  },
  {
   "cell_type": "code",
   "execution_count": 15,
   "source": [
    "# Add rows from dataframe to DB\r\n",
    "for i, row in events.iterrows():\r\n",
    "##Assign the INSERT statements into the `query` variable\r\n",
    "    query = \"INSERT INTO song_sessions (sessionId, itemInSession, artist, song, length) \"\r\n",
    "    #have an issue with punctuation on artist\r\n",
    "    art_song = [row['artist'], row['song']]\r\n",
    "    #create a quote escape for song and artist strings before adding to table\r\n",
    "    art_song = [j.split(\"'\")[0]+'\\'\\''+ j.split(\"'\")[1] if j.find(\"'\") != -1 else j for j in art_song]\r\n",
    "    query = query + \"VALUES({},{},'{}','{}','{}')\".format(row.sessionId, row.itemInSession, art_song[0], art_song[1], str(row.length))\r\n",
    "    exec_query(session, query)"
   ],
   "outputs": [],
   "metadata": {
    "editable": true
   }
  },
  {
   "cell_type": "markdown",
   "source": [
    "Query to select the artist, song, and length of the song for a specific sessionId 338 with itemInSession of 4"
   ],
   "metadata": {
    "editable": true
   }
  },
  {
   "cell_type": "code",
   "execution_count": 16,
   "source": [
    "##Add in the SELECT statement to verify the data was entered into the table\n",
    "select_query = 'SELECT artist, song, length FROM song_sessions WHERE sessionId = 338 AND itemInSession = 4'\n",
    "results = session.execute(select_query)\n",
    "display = []\n",
    "for row in results:\n",
    "    display.append([row.artist, row.song, row.length])\n",
    "pd.DataFrame(display, columns=['artist', 'song', 'length'])"
   ],
   "outputs": [
    {
     "output_type": "execute_result",
     "data": {
      "text/plain": [
       "      artist                             song    length\n",
       "0  Faithless  Music Matters (Mark Knight Dub)  495.3073"
      ],
      "text/html": [
       "<div>\n",
       "<style scoped>\n",
       "    .dataframe tbody tr th:only-of-type {\n",
       "        vertical-align: middle;\n",
       "    }\n",
       "\n",
       "    .dataframe tbody tr th {\n",
       "        vertical-align: top;\n",
       "    }\n",
       "\n",
       "    .dataframe thead th {\n",
       "        text-align: right;\n",
       "    }\n",
       "</style>\n",
       "<table border=\"1\" class=\"dataframe\">\n",
       "  <thead>\n",
       "    <tr style=\"text-align: right;\">\n",
       "      <th></th>\n",
       "      <th>artist</th>\n",
       "      <th>song</th>\n",
       "      <th>length</th>\n",
       "    </tr>\n",
       "  </thead>\n",
       "  <tbody>\n",
       "    <tr>\n",
       "      <th>0</th>\n",
       "      <td>Faithless</td>\n",
       "      <td>Music Matters (Mark Knight Dub)</td>\n",
       "      <td>495.3073</td>\n",
       "    </tr>\n",
       "  </tbody>\n",
       "</table>\n",
       "</div>"
      ]
     },
     "metadata": {},
     "execution_count": 16
    }
   ],
   "metadata": {
    "editable": true,
    "scrolled": true
   }
  },
  {
   "cell_type": "markdown",
   "source": [
    "**Query 2:** Give me only the following: name of artist, song (sorted by itemInSession) and user (first and last name) for userid = 10, sessionid = 182"
   ],
   "metadata": {
    "editable": true
   }
  },
  {
   "cell_type": "code",
   "execution_count": 17,
   "source": [
    "## Query 2: Give me only the following: name of artist, song (sorted by itemInSession) and user (first and last name)\\\n",
    "## for userid = 10, sessionid = 182\n",
    "create_query = 'CREATE TABLE IF NOT EXISTS artist_session_by_songs '\n",
    "pk = 'PRIMARY KEY((userId, sessionid), itemInSession)'\n",
    "create_query = create_query + '(userId int, sessionId int, itemInSession int, artist varchar, song varchar, firstName varchar, lastName varchar, {})'.format(pk)\n",
    "exec_query(session, 'DROP TABLE IF EXISTS artist_session_by_songs')\n",
    "exec_query(session, create_query)"
   ],
   "outputs": [],
   "metadata": {
    "editable": true
   }
  },
  {
   "cell_type": "code",
   "execution_count": 18,
   "source": [
    "# Add rows from dataframe to DB\n",
    "for i, row in events.iterrows():\n",
    "## Assign the INSERT statements into the `query` variable\n",
    "    query = \"INSERT INTO artist_session_by_songs (userId, sessionId, itemInSession, artist, song, firstName, lastName) \"\n",
    "    #have an issue with punctuation on artist\n",
    "    data = [row['artist'], row['song'], row['firstName'], row['lastName']]\n",
    "    #create a quote escape for song and artist strings before adding to table\n",
    "    data = [j.split(\"'\")[0]+'\\'\\''+ j.split(\"'\")[1] if j.find(\"'\") != -1 else j for j in data]\n",
    "    query = query + \"VALUES({},{},{},'{}','{}','{}','{}')\".format(row.userId, row.sessionId, row.itemInSession, data[0], data[1], data[2], data[3])\n",
    "    exec_query(session, query)"
   ],
   "outputs": [],
   "metadata": {
    "editable": true
   }
  },
  {
   "cell_type": "markdown",
   "source": [
    "Selection of artist, song, and the user's first and last name using their user ID during a specific session"
   ],
   "metadata": {
    "editable": true
   }
  },
  {
   "cell_type": "code",
   "execution_count": 19,
   "source": [
    "## Add in the SELECT statement to verify the data was entered into the table\n",
    "select_query = 'SELECT artist, song, firstName, lastName FROM artist_session_by_songs WHERE userId = 10 AND sessionId = 182'\n",
    "results = session.execute(select_query)\n",
    "display = []\n",
    "for row in results:\n",
    "    display.append([row.artist, row.song, row.firstname, row.lastname])\n",
    "pd.DataFrame(display, columns=['artist', 'song', 'first_name', 'last_name'])"
   ],
   "outputs": [
    {
     "output_type": "execute_result",
     "data": {
      "text/plain": [
       "              artist                                               song  \\\n",
       "0   Down To The Bone                                 Keep On Keepin' On   \n",
       "1       Three Drives                                        Greece 2000   \n",
       "2  Sebastien Tellier                                          Kilometer   \n",
       "3      Lonnie Gordon  Catch You Baby (Steve Pitron & Max Sanna Radio...   \n",
       "\n",
       "  first_name last_name  \n",
       "0     Sylvie      Cruz  \n",
       "1     Sylvie      Cruz  \n",
       "2     Sylvie      Cruz  \n",
       "3     Sylvie      Cruz  "
      ],
      "text/html": [
       "<div>\n",
       "<style scoped>\n",
       "    .dataframe tbody tr th:only-of-type {\n",
       "        vertical-align: middle;\n",
       "    }\n",
       "\n",
       "    .dataframe tbody tr th {\n",
       "        vertical-align: top;\n",
       "    }\n",
       "\n",
       "    .dataframe thead th {\n",
       "        text-align: right;\n",
       "    }\n",
       "</style>\n",
       "<table border=\"1\" class=\"dataframe\">\n",
       "  <thead>\n",
       "    <tr style=\"text-align: right;\">\n",
       "      <th></th>\n",
       "      <th>artist</th>\n",
       "      <th>song</th>\n",
       "      <th>first_name</th>\n",
       "      <th>last_name</th>\n",
       "    </tr>\n",
       "  </thead>\n",
       "  <tbody>\n",
       "    <tr>\n",
       "      <th>0</th>\n",
       "      <td>Down To The Bone</td>\n",
       "      <td>Keep On Keepin' On</td>\n",
       "      <td>Sylvie</td>\n",
       "      <td>Cruz</td>\n",
       "    </tr>\n",
       "    <tr>\n",
       "      <th>1</th>\n",
       "      <td>Three Drives</td>\n",
       "      <td>Greece 2000</td>\n",
       "      <td>Sylvie</td>\n",
       "      <td>Cruz</td>\n",
       "    </tr>\n",
       "    <tr>\n",
       "      <th>2</th>\n",
       "      <td>Sebastien Tellier</td>\n",
       "      <td>Kilometer</td>\n",
       "      <td>Sylvie</td>\n",
       "      <td>Cruz</td>\n",
       "    </tr>\n",
       "    <tr>\n",
       "      <th>3</th>\n",
       "      <td>Lonnie Gordon</td>\n",
       "      <td>Catch You Baby (Steve Pitron &amp; Max Sanna Radio...</td>\n",
       "      <td>Sylvie</td>\n",
       "      <td>Cruz</td>\n",
       "    </tr>\n",
       "  </tbody>\n",
       "</table>\n",
       "</div>"
      ]
     },
     "metadata": {},
     "execution_count": 19
    }
   ],
   "metadata": {
    "editable": true
   }
  },
  {
   "cell_type": "markdown",
   "source": [
    "**Query 3:** Give me every user name (first and last) in my music app history who listened to the song 'All Hands Against His Own'"
   ],
   "metadata": {
    "editable": true
   }
  },
  {
   "cell_type": "code",
   "execution_count": 20,
   "source": [
    "## Query 3: Give me every user name (first and last) in my music app history who listened to the song 'All Hands Against His Own'\n",
    "create_query = 'CREATE TABLE IF NOT EXISTS user_session_by_artists '\n",
    "# someone may listen to multiple songs during one session hence adding user and session ids as clustering cols\n",
    "pk = 'PRIMARY KEY(song, userId, sessionId)'\n",
    "create_query = create_query + '(song varchar, userId int, sessionId int, firstName varchar, lastName varchar, {})'.format(pk)\n",
    "exec_query(session, 'DROP TABLE IF EXISTS user_session_by_artists')\n",
    "exec_query(session, create_query)                    "
   ],
   "outputs": [],
   "metadata": {
    "editable": true
   }
  },
  {
   "cell_type": "code",
   "execution_count": 21,
   "source": [
    "# Add rows from dataframe to DB\n",
    "for i, row in events.iterrows():\n",
    "## Assign the INSERT statements into the `query` variable\n",
    "    query = \"INSERT INTO user_session_by_artists (song, userId, sessionId, firstName, lastName) \"\n",
    "    #have an issue with punctuation on artist\n",
    "    data = [row['song'], row['firstName'], row['lastName']]\n",
    "    #create a quote escape for song and artist strings before adding to table\n",
    "    data = [j.split(\"'\")[0]+'\\'\\''+ j.split(\"'\")[1] if j.find(\"'\") != -1 else j for j in data]\n",
    "    query = query + \"VALUES('{}',{},{},'{}','{}')\".format(data[0], row.userId, row.sessionId, data[1], data[2])\n",
    "    exec_query(session, query)"
   ],
   "outputs": [],
   "metadata": {
    "editable": true
   }
  },
  {
   "cell_type": "markdown",
   "source": [
    "Providing the user's first and last names for those who listened to a specific song"
   ],
   "metadata": {
    "editable": true
   }
  },
  {
   "cell_type": "code",
   "execution_count": 22,
   "source": [
    "## Add in the SELECT statement to verify the data was entered into the table\n",
    "select_query = \"SELECT firstName, lastName FROM user_session_by_artists WHERE song = 'All Hands Against His Own'\"\n",
    "results = session.execute(select_query)\n",
    "display = []\n",
    "for row in results:\n",
    "    #combine first and last names to get user name\n",
    "    display.append([row.firstname + ' ' + row.lastname])\n",
    "pd.DataFrame(display, columns=['user_name'])"
   ],
   "outputs": [
    {
     "output_type": "execute_result",
     "data": {
      "text/plain": [
       "          user_name\n",
       "0  Jacqueline Lynch\n",
       "1      Tegan Levine\n",
       "2      Sara Johnson"
      ],
      "text/html": [
       "<div>\n",
       "<style scoped>\n",
       "    .dataframe tbody tr th:only-of-type {\n",
       "        vertical-align: middle;\n",
       "    }\n",
       "\n",
       "    .dataframe tbody tr th {\n",
       "        vertical-align: top;\n",
       "    }\n",
       "\n",
       "    .dataframe thead th {\n",
       "        text-align: right;\n",
       "    }\n",
       "</style>\n",
       "<table border=\"1\" class=\"dataframe\">\n",
       "  <thead>\n",
       "    <tr style=\"text-align: right;\">\n",
       "      <th></th>\n",
       "      <th>user_name</th>\n",
       "    </tr>\n",
       "  </thead>\n",
       "  <tbody>\n",
       "    <tr>\n",
       "      <th>0</th>\n",
       "      <td>Jacqueline Lynch</td>\n",
       "    </tr>\n",
       "    <tr>\n",
       "      <th>1</th>\n",
       "      <td>Tegan Levine</td>\n",
       "    </tr>\n",
       "    <tr>\n",
       "      <th>2</th>\n",
       "      <td>Sara Johnson</td>\n",
       "    </tr>\n",
       "  </tbody>\n",
       "</table>\n",
       "</div>"
      ]
     },
     "metadata": {},
     "execution_count": 22
    }
   ],
   "metadata": {
    "editable": true
   }
  },
  {
   "cell_type": "markdown",
   "source": [
    "### Drop the tables before closing out the sessions"
   ],
   "metadata": {
    "editable": true
   }
  },
  {
   "cell_type": "code",
   "execution_count": 23,
   "source": [
    "exec_query(session, 'DROP TABLE IF EXISTS song_sessions')\n",
    "exec_query(session, 'DROP TABLE IF EXISTS artist_session_by_songs')\n",
    "exec_query(session, 'DROP TABLE IF EXISTS user_session_by_artists')"
   ],
   "outputs": [],
   "metadata": {
    "editable": true
   }
  },
  {
   "cell_type": "markdown",
   "source": [
    "### Close the session and cluster connection¶"
   ],
   "metadata": {
    "editable": true
   }
  },
  {
   "cell_type": "code",
   "execution_count": 24,
   "source": [
    "session.shutdown()\n",
    "cluster.shutdown()"
   ],
   "outputs": [],
   "metadata": {
    "editable": true
   }
  }
 ],
 "metadata": {
  "kernelspec": {
   "display_name": "Python 3",
   "language": "python",
   "name": "python3"
  },
  "language_info": {
   "codemirror_mode": {
    "name": "ipython",
    "version": 3
   },
   "file_extension": ".py",
   "mimetype": "text/x-python",
   "name": "python",
   "nbconvert_exporter": "python",
   "pygments_lexer": "ipython3",
   "version": "3.6.3"
  }
 },
 "nbformat": 4,
 "nbformat_minor": 4
}